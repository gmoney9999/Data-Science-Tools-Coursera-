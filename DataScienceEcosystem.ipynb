{
 "cells": [
  {
   "cell_type": "markdown",
   "id": "601917ec-56b5-4243-9bfd-1ed52dfcc480",
   "metadata": {},
   "source": [
    "# Data Science Tools and Ecosystem"
   ]
  },
  {
   "cell_type": "markdown",
   "id": "9b98af8e-7080-4065-8a35-bf8346f714cf",
   "metadata": {},
   "source": [
    "In this notebook, Data Science Tools and Ecosystem are summarized."
   ]
  },
  {
   "cell_type": "markdown",
   "id": "396a9423-e7cc-4882-a5df-8f7dea128be3",
   "metadata": {
    "tags": []
   },
   "source": [
    "Some of the popular languages that Data Scientists use are:  \n",
    "> 1. Python  \n",
    "> 2. R  \n",
    "> 3. SQL"
   ]
  },
  {
   "cell_type": "markdown",
   "id": "fa99c775-fa38-4518-83ec-7a3eca85fcc1",
   "metadata": {},
   "source": [
    "Some of the commonly used libraries used by Data Scientists include:  \n",
    "> 1. numpy\n",
    "> 2. matplotlib\n",
    "> 3. scikit-learn"
   ]
  },
  {
   "cell_type": "markdown",
   "id": "53800aaa-a338-44c6-a872-7a319001f6e2",
   "metadata": {},
   "source": [
    "|Data Science Tools|\n",
    "|:----------------:|\n",
    "|   Apache Spark   |\n",
    "|   Apache Hadoop  |\n",
    "|     R Studio     |"
   ]
  },
  {
   "cell_type": "markdown",
   "id": "306aa10b-39e2-43c3-a9ef-d588b1b3a2e7",
   "metadata": {},
   "source": [
    "### Below are a few examples of evaluating arithmetic expressions in Python"
   ]
  },
  {
   "cell_type": "code",
   "execution_count": 2,
   "id": "d36b4d6a-f63d-4ddf-8a8b-7976389423b4",
   "metadata": {
    "tags": []
   },
   "outputs": [
    {
     "data": {
      "text/plain": [
       "17"
      ]
     },
     "execution_count": 2,
     "metadata": {},
     "output_type": "execute_result"
    }
   ],
   "source": [
    "# This is a simple arithmetic expression to multiply then add integers\n",
    "(3*4)+5"
   ]
  },
  {
   "cell_type": "code",
   "execution_count": 3,
   "id": "7e302f16-9c4d-404e-b6e9-bdda0ac52e9f",
   "metadata": {
    "tags": []
   },
   "outputs": [
    {
     "data": {
      "text/plain": [
       "3.3333333333333335"
      ]
     },
     "execution_count": 3,
     "metadata": {},
     "output_type": "execute_result"
    }
   ],
   "source": [
    "# This will convert 200 minutes into hours\n",
    "200/60"
   ]
  },
  {
   "cell_type": "markdown",
   "id": "da3ce356-bc00-4285-bbc3-260ec238c001",
   "metadata": {},
   "source": [
    "**Objectives**:  \n",
    "* List popular languages for Data Science. \n",
    "* List open source tools for Data Scientists use.  \n",
    "* List some key libraries Data Scientists use."
   ]
  },
  {
   "cell_type": "markdown",
   "id": "7191d2b6-5abc-47e1-ad06-c4efeb1b7e41",
   "metadata": {},
   "source": [
    "## Author:  \n",
    "Gavin Roman"
   ]
  },
  {
   "cell_type": "code",
   "execution_count": null,
   "id": "560c4968-06c0-43d8-998b-0e21b58cdac8",
   "metadata": {},
   "outputs": [],
   "source": []
  }
 ],
 "metadata": {
  "kernelspec": {
   "display_name": "Python",
   "language": "python",
   "name": "conda-env-python-py"
  },
  "language_info": {
   "codemirror_mode": {
    "name": "ipython",
    "version": 3
   },
   "file_extension": ".py",
   "mimetype": "text/x-python",
   "name": "python",
   "nbconvert_exporter": "python",
   "pygments_lexer": "ipython3",
   "version": "3.7.12"
  },
  "toc-showcode": false,
  "toc-showtags": false
 },
 "nbformat": 4,
 "nbformat_minor": 5
}
